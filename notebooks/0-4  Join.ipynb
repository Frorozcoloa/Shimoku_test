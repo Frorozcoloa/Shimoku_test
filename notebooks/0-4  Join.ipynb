{
 "cells": [
  {
   "cell_type": "code",
   "execution_count": 4,
   "metadata": {},
   "outputs": [],
   "source": [
    "from pathlib import Path\n",
    "import pandas as pd\n",
    "import numpy as np\n",
    "import matplotlib.pyplot as plt\n",
    "# import seaborn as sns\n",
    "import os"
   ]
  },
  {
   "cell_type": "code",
   "execution_count": 5,
   "metadata": {},
   "outputs": [],
   "source": [
    "integrated = pd.read_csv('../datasets/processed/integrated.csv')"
   ]
  },
  {
   "cell_type": "code",
   "execution_count": 7,
   "metadata": {},
   "outputs": [
    {
     "data": {
      "text/plain": [
       "Index(['use_case', 'status', 'close_date', 'price', 'pain', 'loss_reason',\n",
       "       'duration', 'has_discount_code', 'lead_has_city',\n",
       "       'lead_acquisition_campaign', 'lead_use_case', 'lead_source',\n",
       "       'duration_created', 'use_case_isnull', 'price_isnull', 'pain_isnull',\n",
       "       'loss_reason_isnull', 'lead_has_city_isnull',\n",
       "       'lead_acquisition_campaign_isnull', 'lead_use_case_isnull',\n",
       "       'lead_source_isnull', 'duration_created_isnull'],\n",
       "      dtype='object')"
      ]
     },
     "execution_count": 7,
     "metadata": {},
     "output_type": "execute_result"
    }
   ],
   "source": [
    "integrated.columns"
   ]
  }
 ],
 "metadata": {
  "kernelspec": {
   "display_name": "env",
   "language": "python",
   "name": "python3"
  },
  "language_info": {
   "codemirror_mode": {
    "name": "ipython",
    "version": 3
   },
   "file_extension": ".py",
   "mimetype": "text/x-python",
   "name": "python",
   "nbconvert_exporter": "python",
   "pygments_lexer": "ipython3",
   "version": "3.10.5"
  }
 },
 "nbformat": 4,
 "nbformat_minor": 2
}
